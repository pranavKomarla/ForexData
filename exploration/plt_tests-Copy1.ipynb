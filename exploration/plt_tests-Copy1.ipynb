{
 "cells": [
  {
   "cell_type": "code",
   "execution_count": 61,
   "id": "8eaece5a-9b26-4ddb-bc54-833cc474ec17",
   "metadata": {},
   "outputs": [],
   "source": [
    "import pandas as pd\n",
    "        \n",
    "import plotly.graph_objects as go\n",
    "import datetime as dt\n",
    "from plotting import CandlePlot\n",
    "\n",
    "\n"
   ]
  },
  {
   "cell_type": "code",
   "execution_count": 62,
   "id": "1192b97c-b2a2-47fd-b8f7-88f39884712c",
   "metadata": {},
   "outputs": [],
   "source": [
    "pair = \"EUR_USD\"\n",
    "granularity = \"H4\"\n",
    "df = pd.read_pickle(f\"../data/{pair}_{granularity}.pkl\")"
   ]
  },
  {
   "cell_type": "code",
   "execution_count": 63,
   "id": "1236031a-8a82-4f86-9773-68357b23c241",
   "metadata": {},
   "outputs": [
    {
     "data": {
      "text/html": [
       "<div>\n",
       "<style scoped>\n",
       "    .dataframe tbody tr th:only-of-type {\n",
       "        vertical-align: middle;\n",
       "    }\n",
       "\n",
       "    .dataframe tbody tr th {\n",
       "        vertical-align: top;\n",
       "    }\n",
       "\n",
       "    .dataframe thead th {\n",
       "        text-align: right;\n",
       "    }\n",
       "</style>\n",
       "<table border=\"1\" class=\"dataframe\">\n",
       "  <thead>\n",
       "    <tr style=\"text-align: right;\">\n",
       "      <th></th>\n",
       "      <th>time</th>\n",
       "      <th>volume</th>\n",
       "      <th>mid_o</th>\n",
       "      <th>mid_h</th>\n",
       "      <th>mid_l</th>\n",
       "      <th>mid_c</th>\n",
       "      <th>bid_o</th>\n",
       "      <th>bid_h</th>\n",
       "      <th>bid_l</th>\n",
       "      <th>bid_c</th>\n",
       "      <th>ask_o</th>\n",
       "      <th>ask_h</th>\n",
       "      <th>ask_l</th>\n",
       "      <th>ask_c</th>\n",
       "    </tr>\n",
       "  </thead>\n",
       "  <tbody>\n",
       "    <tr>\n",
       "      <th>3995</th>\n",
       "      <td>2024-08-19 21:00:00+00:00</td>\n",
       "      <td>7081</td>\n",
       "      <td>1.10827</td>\n",
       "      <td>1.10875</td>\n",
       "      <td>1.10800</td>\n",
       "      <td>1.10820</td>\n",
       "      <td>1.10813</td>\n",
       "      <td>1.10867</td>\n",
       "      <td>1.10792</td>\n",
       "      <td>1.10812</td>\n",
       "      <td>1.10841</td>\n",
       "      <td>1.10883</td>\n",
       "      <td>1.10808</td>\n",
       "      <td>1.10827</td>\n",
       "    </tr>\n",
       "    <tr>\n",
       "      <th>3996</th>\n",
       "      <td>2024-08-20 01:00:00+00:00</td>\n",
       "      <td>11593</td>\n",
       "      <td>1.10820</td>\n",
       "      <td>1.10872</td>\n",
       "      <td>1.10749</td>\n",
       "      <td>1.10770</td>\n",
       "      <td>1.10813</td>\n",
       "      <td>1.10865</td>\n",
       "      <td>1.10741</td>\n",
       "      <td>1.10763</td>\n",
       "      <td>1.10827</td>\n",
       "      <td>1.10880</td>\n",
       "      <td>1.10757</td>\n",
       "      <td>1.10778</td>\n",
       "    </tr>\n",
       "    <tr>\n",
       "      <th>3997</th>\n",
       "      <td>2024-08-20 05:00:00+00:00</td>\n",
       "      <td>17356</td>\n",
       "      <td>1.10768</td>\n",
       "      <td>1.10889</td>\n",
       "      <td>1.10718</td>\n",
       "      <td>1.10797</td>\n",
       "      <td>1.10761</td>\n",
       "      <td>1.10882</td>\n",
       "      <td>1.10711</td>\n",
       "      <td>1.10789</td>\n",
       "      <td>1.10776</td>\n",
       "      <td>1.10897</td>\n",
       "      <td>1.10726</td>\n",
       "      <td>1.10805</td>\n",
       "    </tr>\n",
       "    <tr>\n",
       "      <th>3998</th>\n",
       "      <td>2024-08-20 09:00:00+00:00</td>\n",
       "      <td>16884</td>\n",
       "      <td>1.10798</td>\n",
       "      <td>1.10987</td>\n",
       "      <td>1.10750</td>\n",
       "      <td>1.10983</td>\n",
       "      <td>1.10790</td>\n",
       "      <td>1.10979</td>\n",
       "      <td>1.10743</td>\n",
       "      <td>1.10975</td>\n",
       "      <td>1.10807</td>\n",
       "      <td>1.10995</td>\n",
       "      <td>1.10758</td>\n",
       "      <td>1.10991</td>\n",
       "    </tr>\n",
       "    <tr>\n",
       "      <th>3999</th>\n",
       "      <td>2024-08-20 13:00:00+00:00</td>\n",
       "      <td>26483</td>\n",
       "      <td>1.10984</td>\n",
       "      <td>1.11192</td>\n",
       "      <td>1.10926</td>\n",
       "      <td>1.11149</td>\n",
       "      <td>1.10976</td>\n",
       "      <td>1.11184</td>\n",
       "      <td>1.10918</td>\n",
       "      <td>1.11141</td>\n",
       "      <td>1.10991</td>\n",
       "      <td>1.11200</td>\n",
       "      <td>1.10933</td>\n",
       "      <td>1.11157</td>\n",
       "    </tr>\n",
       "  </tbody>\n",
       "</table>\n",
       "</div>"
      ],
      "text/plain": [
       "                          time  volume    mid_o    mid_h    mid_l    mid_c  \\\n",
       "3995 2024-08-19 21:00:00+00:00    7081  1.10827  1.10875  1.10800  1.10820   \n",
       "3996 2024-08-20 01:00:00+00:00   11593  1.10820  1.10872  1.10749  1.10770   \n",
       "3997 2024-08-20 05:00:00+00:00   17356  1.10768  1.10889  1.10718  1.10797   \n",
       "3998 2024-08-20 09:00:00+00:00   16884  1.10798  1.10987  1.10750  1.10983   \n",
       "3999 2024-08-20 13:00:00+00:00   26483  1.10984  1.11192  1.10926  1.11149   \n",
       "\n",
       "        bid_o    bid_h    bid_l    bid_c    ask_o    ask_h    ask_l    ask_c  \n",
       "3995  1.10813  1.10867  1.10792  1.10812  1.10841  1.10883  1.10808  1.10827  \n",
       "3996  1.10813  1.10865  1.10741  1.10763  1.10827  1.10880  1.10757  1.10778  \n",
       "3997  1.10761  1.10882  1.10711  1.10789  1.10776  1.10897  1.10726  1.10805  \n",
       "3998  1.10790  1.10979  1.10743  1.10975  1.10807  1.10995  1.10758  1.10991  \n",
       "3999  1.10976  1.11184  1.10918  1.11141  1.10991  1.11200  1.10933  1.11157  "
      ]
     },
     "execution_count": 63,
     "metadata": {},
     "output_type": "execute_result"
    }
   ],
   "source": [
    "df.tail()"
   ]
  },
  {
   "cell_type": "code",
   "execution_count": 64,
   "id": "38d05bee-5b28-44ea-8e1e-3c8d317894ab",
   "metadata": {},
   "outputs": [
    {
     "data": {
      "text/plain": [
       "(100, 14)"
      ]
     },
     "execution_count": 64,
     "metadata": {},
     "output_type": "execute_result"
    }
   ],
   "source": [
    "df_plot = df.iloc[:100]\n",
    "df_plot.shape"
   ]
  },
  {
   "cell_type": "code",
   "execution_count": 65,
   "id": "ae8bf50c-db20-417f-a6eb-7572bbaba59b",
   "metadata": {},
   "outputs": [
    {
     "ename": "AttributeError",
     "evalue": "'CandlePlot' object has no attribute 'fig'",
     "output_type": "error",
     "traceback": [
      "\u001b[0;31m---------------------------------------------------------------------------\u001b[0m",
      "\u001b[0;31mAttributeError\u001b[0m                            Traceback (most recent call last)",
      "Cell \u001b[0;32mIn[65], line 2\u001b[0m\n\u001b[1;32m      1\u001b[0m cd \u001b[38;5;241m=\u001b[39m CandlePlot(df_plot)\n\u001b[0;32m----> 2\u001b[0m \u001b[43mcd\u001b[49m\u001b[38;5;241;43m.\u001b[39;49m\u001b[43mshow_plot\u001b[49m\u001b[43m(\u001b[49m\u001b[43m)\u001b[49m\n",
      "File \u001b[0;32m~/Desktop/Learning Web Developement/Forex_Algo/Code/exploration/plotting.py:55\u001b[0m, in \u001b[0;36mCandlePlot.show_plot\u001b[0;34m(self, width, height, nticks)\u001b[0m\n\u001b[1;32m     54\u001b[0m \u001b[38;5;28;01mdef\u001b[39;00m \u001b[38;5;21mshow_plot\u001b[39m(\u001b[38;5;28mself\u001b[39m, width \u001b[38;5;241m=\u001b[39m \u001b[38;5;241m900\u001b[39m, height \u001b[38;5;241m=\u001b[39m \u001b[38;5;241m400\u001b[39m, nticks \u001b[38;5;241m=\u001b[39m \u001b[38;5;241m5\u001b[39m):\n\u001b[0;32m---> 55\u001b[0m     \u001b[38;5;28;43mself\u001b[39;49m\u001b[38;5;241;43m.\u001b[39;49m\u001b[43mupdate_layout\u001b[49m\u001b[43m(\u001b[49m\u001b[43mwidth\u001b[49m\u001b[43m,\u001b[49m\u001b[43m \u001b[49m\u001b[43mheight\u001b[49m\u001b[43m,\u001b[49m\u001b[43m \u001b[49m\u001b[43mnticks\u001b[49m\u001b[43m)\u001b[49m\n\u001b[1;32m     56\u001b[0m     \u001b[38;5;28mself\u001b[39m\u001b[38;5;241m.\u001b[39mfig\u001b[38;5;241m.\u001b[39mshow()\n",
      "File \u001b[0;32m~/Desktop/Learning Web Developement/Forex_Algo/Code/exploration/plotting.py:30\u001b[0m, in \u001b[0;36mCandlePlot.update_layout\u001b[0;34m(self, width, height, nticks)\u001b[0m\n\u001b[1;32m     29\u001b[0m \u001b[38;5;28;01mdef\u001b[39;00m \u001b[38;5;21mupdate_layout\u001b[39m(\u001b[38;5;28mself\u001b[39m, width, height, nticks):\n\u001b[0;32m---> 30\u001b[0m     \u001b[38;5;28;43mself\u001b[39;49m\u001b[38;5;241;43m.\u001b[39;49m\u001b[43mfig\u001b[49m\u001b[38;5;241m.\u001b[39mupdate_yaxes(\n\u001b[1;32m     31\u001b[0m         gridcolor \u001b[38;5;241m=\u001b[39m \u001b[38;5;124m\"\u001b[39m\u001b[38;5;124m#1f292f\u001b[39m\u001b[38;5;124m\"\u001b[39m\n\u001b[1;32m     32\u001b[0m     )\n\u001b[1;32m     34\u001b[0m     \u001b[38;5;28mself\u001b[39m\u001b[38;5;241m.\u001b[39mfig\u001b[38;5;241m.\u001b[39mupdate_xaxes(\n\u001b[1;32m     35\u001b[0m         gridcolor \u001b[38;5;241m=\u001b[39m \u001b[38;5;124m\"\u001b[39m\u001b[38;5;124m#1f292f\u001b[39m\u001b[38;5;124m\"\u001b[39m,\n\u001b[1;32m     36\u001b[0m         rangeslider \u001b[38;5;241m=\u001b[39m \u001b[38;5;28mdict\u001b[39m(visible \u001b[38;5;241m=\u001b[39m \u001b[38;5;28;01mFalse\u001b[39;00m), \u001b[38;5;66;03m#turns off the range slider\u001b[39;00m\n\u001b[0;32m   (...)\u001b[0m\n\u001b[1;32m     41\u001b[0m         \u001b[38;5;66;03m#type = \"date\"\u001b[39;00m\n\u001b[1;32m     42\u001b[0m     )\n\u001b[1;32m     44\u001b[0m     \u001b[38;5;28mself\u001b[39m\u001b[38;5;241m.\u001b[39mfig\u001b[38;5;241m.\u001b[39mupdate_layout(\n\u001b[1;32m     45\u001b[0m         width \u001b[38;5;241m=\u001b[39m width,\n\u001b[1;32m     46\u001b[0m         height \u001b[38;5;241m=\u001b[39m height,\n\u001b[0;32m   (...)\u001b[0m\n\u001b[1;32m     51\u001b[0m         font_size \u001b[38;5;241m=\u001b[39m \u001b[38;5;241m8\u001b[39m\n\u001b[1;32m     52\u001b[0m     )\n",
      "\u001b[0;31mAttributeError\u001b[0m: 'CandlePlot' object has no attribute 'fig'"
     ]
    }
   ],
   "source": [
    "cd = CandlePlot(df_plot)\n",
    "cd.show_plot()"
   ]
  },
  {
   "cell_type": "code",
   "execution_count": null,
   "id": "44728b76-71b3-449a-9c62-98503cfaef05",
   "metadata": {},
   "outputs": [],
   "source": []
  },
  {
   "cell_type": "code",
   "execution_count": null,
   "id": "eabcb5b0-4152-4a5f-ad6b-db76a999c6c1",
   "metadata": {},
   "outputs": [],
   "source": []
  }
 ],
 "metadata": {
  "kernelspec": {
   "display_name": "Python 3 (ipykernel)",
   "language": "python",
   "name": "python3"
  },
  "language_info": {
   "codemirror_mode": {
    "name": "ipython",
    "version": 3
   },
   "file_extension": ".py",
   "mimetype": "text/x-python",
   "name": "python",
   "nbconvert_exporter": "python",
   "pygments_lexer": "ipython3",
   "version": "3.12.4"
  }
 },
 "nbformat": 4,
 "nbformat_minor": 5
}
