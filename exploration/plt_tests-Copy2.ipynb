{
 "cells": [
  {
   "cell_type": "code",
   "execution_count": 16,
   "id": "8eaece5a-9b26-4ddb-bc54-833cc474ec17",
   "metadata": {},
   "outputs": [],
   "source": [
    "import pandas as pd\n",
    "        \n",
    "import plotly.graph_objects as go\n",
    "import datetime as dt\n",
    "from plotting import CandlePlot\n",
    "\n",
    "\n"
   ]
  },
  {
   "cell_type": "code",
   "execution_count": 18,
   "id": "b89a2ff1-cfd7-426a-9ff1-ec1ba57745ac",
   "metadata": {},
   "outputs": [
    {
     "ename": "NameError",
     "evalue": "name 'plotting' is not defined",
     "output_type": "error",
     "traceback": [
      "\u001b[0;31m---------------------------------------------------------------------------\u001b[0m",
      "\u001b[0;31mNameError\u001b[0m                                 Traceback (most recent call last)",
      "Cell \u001b[0;32mIn[18], line 2\u001b[0m\n\u001b[1;32m      1\u001b[0m \u001b[38;5;28;01mimport\u001b[39;00m \u001b[38;5;21;01mimportlib\u001b[39;00m\n\u001b[0;32m----> 2\u001b[0m importlib\u001b[38;5;241m.\u001b[39mreload(\u001b[43mplotting\u001b[49m)\n",
      "\u001b[0;31mNameError\u001b[0m: name 'plotting' is not defined"
     ]
    }
   ],
   "source": [
    "import importlib\n",
    "importlib.reload(plotting)"
   ]
  },
  {
   "cell_type": "code",
   "execution_count": 7,
   "id": "1192b97c-b2a2-47fd-b8f7-88f39884712c",
   "metadata": {},
   "outputs": [],
   "source": [
    "pair = \"EUR_USD\"\n",
    "granularity = \"H4\"\n",
    "df = pd.read_pickle(f\"../data/{pair}_{granularity}.pkl\")"
   ]
  },
  {
   "cell_type": "code",
   "execution_count": 8,
   "id": "1236031a-8a82-4f86-9773-68357b23c241",
   "metadata": {},
   "outputs": [
    {
     "data": {
      "text/html": [
       "<div>\n",
       "<style scoped>\n",
       "    .dataframe tbody tr th:only-of-type {\n",
       "        vertical-align: middle;\n",
       "    }\n",
       "\n",
       "    .dataframe tbody tr th {\n",
       "        vertical-align: top;\n",
       "    }\n",
       "\n",
       "    .dataframe thead th {\n",
       "        text-align: right;\n",
       "    }\n",
       "</style>\n",
       "<table border=\"1\" class=\"dataframe\">\n",
       "  <thead>\n",
       "    <tr style=\"text-align: right;\">\n",
       "      <th></th>\n",
       "      <th>time</th>\n",
       "      <th>volume</th>\n",
       "      <th>mid_o</th>\n",
       "      <th>mid_h</th>\n",
       "      <th>mid_l</th>\n",
       "      <th>mid_c</th>\n",
       "      <th>bid_o</th>\n",
       "      <th>bid_h</th>\n",
       "      <th>bid_l</th>\n",
       "      <th>bid_c</th>\n",
       "      <th>ask_o</th>\n",
       "      <th>ask_h</th>\n",
       "      <th>ask_l</th>\n",
       "      <th>ask_c</th>\n",
       "    </tr>\n",
       "  </thead>\n",
       "  <tbody>\n",
       "    <tr>\n",
       "      <th>3995</th>\n",
       "      <td>2024-08-19 21:00:00+00:00</td>\n",
       "      <td>7081</td>\n",
       "      <td>1.10827</td>\n",
       "      <td>1.10875</td>\n",
       "      <td>1.10800</td>\n",
       "      <td>1.10820</td>\n",
       "      <td>1.10813</td>\n",
       "      <td>1.10867</td>\n",
       "      <td>1.10792</td>\n",
       "      <td>1.10812</td>\n",
       "      <td>1.10841</td>\n",
       "      <td>1.10883</td>\n",
       "      <td>1.10808</td>\n",
       "      <td>1.10827</td>\n",
       "    </tr>\n",
       "    <tr>\n",
       "      <th>3996</th>\n",
       "      <td>2024-08-20 01:00:00+00:00</td>\n",
       "      <td>11593</td>\n",
       "      <td>1.10820</td>\n",
       "      <td>1.10872</td>\n",
       "      <td>1.10749</td>\n",
       "      <td>1.10770</td>\n",
       "      <td>1.10813</td>\n",
       "      <td>1.10865</td>\n",
       "      <td>1.10741</td>\n",
       "      <td>1.10763</td>\n",
       "      <td>1.10827</td>\n",
       "      <td>1.10880</td>\n",
       "      <td>1.10757</td>\n",
       "      <td>1.10778</td>\n",
       "    </tr>\n",
       "    <tr>\n",
       "      <th>3997</th>\n",
       "      <td>2024-08-20 05:00:00+00:00</td>\n",
       "      <td>17356</td>\n",
       "      <td>1.10768</td>\n",
       "      <td>1.10889</td>\n",
       "      <td>1.10718</td>\n",
       "      <td>1.10797</td>\n",
       "      <td>1.10761</td>\n",
       "      <td>1.10882</td>\n",
       "      <td>1.10711</td>\n",
       "      <td>1.10789</td>\n",
       "      <td>1.10776</td>\n",
       "      <td>1.10897</td>\n",
       "      <td>1.10726</td>\n",
       "      <td>1.10805</td>\n",
       "    </tr>\n",
       "    <tr>\n",
       "      <th>3998</th>\n",
       "      <td>2024-08-20 09:00:00+00:00</td>\n",
       "      <td>16884</td>\n",
       "      <td>1.10798</td>\n",
       "      <td>1.10987</td>\n",
       "      <td>1.10750</td>\n",
       "      <td>1.10983</td>\n",
       "      <td>1.10790</td>\n",
       "      <td>1.10979</td>\n",
       "      <td>1.10743</td>\n",
       "      <td>1.10975</td>\n",
       "      <td>1.10807</td>\n",
       "      <td>1.10995</td>\n",
       "      <td>1.10758</td>\n",
       "      <td>1.10991</td>\n",
       "    </tr>\n",
       "    <tr>\n",
       "      <th>3999</th>\n",
       "      <td>2024-08-20 13:00:00+00:00</td>\n",
       "      <td>26483</td>\n",
       "      <td>1.10984</td>\n",
       "      <td>1.11192</td>\n",
       "      <td>1.10926</td>\n",
       "      <td>1.11149</td>\n",
       "      <td>1.10976</td>\n",
       "      <td>1.11184</td>\n",
       "      <td>1.10918</td>\n",
       "      <td>1.11141</td>\n",
       "      <td>1.10991</td>\n",
       "      <td>1.11200</td>\n",
       "      <td>1.10933</td>\n",
       "      <td>1.11157</td>\n",
       "    </tr>\n",
       "  </tbody>\n",
       "</table>\n",
       "</div>"
      ],
      "text/plain": [
       "                          time  volume    mid_o    mid_h    mid_l    mid_c  \\\n",
       "3995 2024-08-19 21:00:00+00:00    7081  1.10827  1.10875  1.10800  1.10820   \n",
       "3996 2024-08-20 01:00:00+00:00   11593  1.10820  1.10872  1.10749  1.10770   \n",
       "3997 2024-08-20 05:00:00+00:00   17356  1.10768  1.10889  1.10718  1.10797   \n",
       "3998 2024-08-20 09:00:00+00:00   16884  1.10798  1.10987  1.10750  1.10983   \n",
       "3999 2024-08-20 13:00:00+00:00   26483  1.10984  1.11192  1.10926  1.11149   \n",
       "\n",
       "        bid_o    bid_h    bid_l    bid_c    ask_o    ask_h    ask_l    ask_c  \n",
       "3995  1.10813  1.10867  1.10792  1.10812  1.10841  1.10883  1.10808  1.10827  \n",
       "3996  1.10813  1.10865  1.10741  1.10763  1.10827  1.10880  1.10757  1.10778  \n",
       "3997  1.10761  1.10882  1.10711  1.10789  1.10776  1.10897  1.10726  1.10805  \n",
       "3998  1.10790  1.10979  1.10743  1.10975  1.10807  1.10995  1.10758  1.10991  \n",
       "3999  1.10976  1.11184  1.10918  1.11141  1.10991  1.11200  1.10933  1.11157  "
      ]
     },
     "execution_count": 8,
     "metadata": {},
     "output_type": "execute_result"
    }
   ],
   "source": [
    "df.tail()"
   ]
  },
  {
   "cell_type": "code",
   "execution_count": 9,
   "id": "38d05bee-5b28-44ea-8e1e-3c8d317894ab",
   "metadata": {},
   "outputs": [
    {
     "data": {
      "text/plain": [
       "(100, 14)"
      ]
     },
     "execution_count": 9,
     "metadata": {},
     "output_type": "execute_result"
    }
   ],
   "source": [
    "df_plot = df.iloc[:100]\n",
    "df_plot.shape"
   ]
  },
  {
   "cell_type": "code",
   "execution_count": 10,
   "id": "ae8bf50c-db20-417f-a6eb-7572bbaba59b",
   "metadata": {},
   "outputs": [
    {
     "data": {
      "application/vnd.plotly.v1+json": {
       "config": {
        "plotlyServerURL": "https://plot.ly"
       },
       "data": [
        {
         "close": [
          1.13045,
          1.12869,
          1.12824,
          1.1288,
          1.1241,
          1.12329,
          1.122,
          1.11964,
          1.11494,
          1.11392,
          1.11441,
          1.11474,
          1.11543,
          1.11327,
          1.11686,
          1.11512,
          1.11492,
          1.11579,
          1.1165,
          1.11749,
          1.11932,
          1.12192,
          1.1233,
          1.12264,
          1.12402,
          1.12612,
          1.12658,
          1.1245,
          1.12736,
          1.12766,
          1.12732,
          1.12933,
          1.13114,
          1.13113,
          1.13055,
          1.13002,
          1.13006,
          1.12844,
          1.13641,
          1.14439,
          1.14392,
          1.1452,
          1.14601,
          1.14632,
          1.14362,
          1.14544,
          1.14516,
          1.14413,
          1.14306,
          1.14235,
          1.14398,
          1.14187,
          1.14416,
          1.14358,
          1.14172,
          1.1406,
          1.1409,
          1.14208,
          1.1417,
          1.14232,
          1.14223,
          1.14267,
          1.14356,
          1.14376,
          1.14233,
          1.14194,
          1.14259,
          1.14436,
          1.14084,
          1.14648,
          1.1428,
          1.14025,
          1.13866,
          1.13863,
          1.13908,
          1.13967,
          1.13472,
          1.13536,
          1.13516,
          1.13122,
          1.13152,
          1.13106,
          1.13064,
          1.13106,
          1.13175,
          1.13462,
          1.1356,
          1.13588,
          1.13586,
          1.13521,
          1.1354,
          1.13776,
          1.13631,
          1.13742,
          1.13736,
          1.13818,
          1.13564,
          1.13614,
          1.13595,
          1.13594
         ],
         "decreasing": {
          "fillcolor": "#CC2E3C",
          "line": {
           "color": "#FF3A4C"
          }
         },
         "high": [
          1.13108,
          1.13053,
          1.12882,
          1.12965,
          1.13015,
          1.12434,
          1.12335,
          1.12216,
          1.1201,
          1.11622,
          1.11494,
          1.11484,
          1.11559,
          1.11549,
          1.11689,
          1.11738,
          1.11562,
          1.1158,
          1.1166,
          1.11824,
          1.11938,
          1.12198,
          1.12478,
          1.12357,
          1.12453,
          1.12696,
          1.12789,
          1.12744,
          1.12738,
          1.12769,
          1.12782,
          1.12945,
          1.13304,
          1.13213,
          1.13144,
          1.13065,
          1.13083,
          1.13026,
          1.13642,
          1.14514,
          1.14498,
          1.14542,
          1.1472,
          1.14688,
          1.14839,
          1.14626,
          1.14642,
          1.14639,
          1.14426,
          1.14494,
          1.14588,
          1.14514,
          1.14439,
          1.14488,
          1.14359,
          1.14236,
          1.14336,
          1.1424,
          1.1424,
          1.14235,
          1.14326,
          1.14279,
          1.1446,
          1.14478,
          1.14414,
          1.1428,
          1.14315,
          1.14464,
          1.14456,
          1.1495,
          1.14752,
          1.14315,
          1.1407,
          1.1398,
          1.14183,
          1.14083,
          1.13994,
          1.13692,
          1.13538,
          1.13522,
          1.13426,
          1.13212,
          1.13144,
          1.13146,
          1.13226,
          1.13504,
          1.136,
          1.13684,
          1.13644,
          1.13622,
          1.13556,
          1.13954,
          1.13884,
          1.13828,
          1.1396,
          1.1385,
          1.1385,
          1.13863,
          1.13795,
          1.13796
         ],
         "increasing": {
          "fillcolor": "#24A068",
          "line": {
           "color": "#2EC886"
          }
         },
         "line": {
          "width": 1
         },
         "low": [
          1.13007,
          1.12833,
          1.12716,
          1.1274,
          1.12353,
          1.12305,
          1.12155,
          1.11929,
          1.1135,
          1.11316,
          1.11356,
          1.1138,
          1.11465,
          1.11214,
          1.11256,
          1.11382,
          1.11412,
          1.11382,
          1.11546,
          1.11606,
          1.11462,
          1.11834,
          1.12184,
          1.1221,
          1.12256,
          1.12344,
          1.12534,
          1.12344,
          1.12431,
          1.12684,
          1.12707,
          1.12668,
          1.129,
          1.12926,
          1.13022,
          1.12932,
          1.12947,
          1.1284,
          1.12672,
          1.13624,
          1.14261,
          1.1432,
          1.14489,
          1.144,
          1.14218,
          1.14116,
          1.14475,
          1.14396,
          1.14248,
          1.14153,
          1.14163,
          1.14174,
          1.14173,
          1.14333,
          1.14154,
          1.13962,
          1.14002,
          1.14032,
          1.14016,
          1.14122,
          1.14218,
          1.14026,
          1.14234,
          1.14256,
          1.14201,
          1.14132,
          1.1418,
          1.14196,
          1.1382,
          1.13749,
          1.1407,
          1.13856,
          1.13748,
          1.137,
          1.13839,
          1.138,
          1.13298,
          1.13392,
          1.13406,
          1.13038,
          1.13008,
          1.12916,
          1.12801,
          1.13011,
          1.13091,
          1.13095,
          1.13366,
          1.13202,
          1.13546,
          1.13487,
          1.1345,
          1.13534,
          1.13548,
          1.13532,
          1.13712,
          1.13673,
          1.13232,
          1.13428,
          1.13517,
          1.13507
         ],
         "opacity": 1,
         "open": [
          1.13056,
          1.13046,
          1.12868,
          1.12826,
          1.12881,
          1.12418,
          1.12328,
          1.12199,
          1.11962,
          1.11492,
          1.1139,
          1.11473,
          1.11473,
          1.11542,
          1.11326,
          1.11688,
          1.11514,
          1.11453,
          1.11577,
          1.1165,
          1.11748,
          1.11931,
          1.12192,
          1.12357,
          1.12266,
          1.12404,
          1.12614,
          1.12658,
          1.1245,
          1.12712,
          1.12764,
          1.1273,
          1.12934,
          1.13115,
          1.13112,
          1.13059,
          1.13001,
          1.13008,
          1.12842,
          1.13644,
          1.1444,
          1.14382,
          1.14522,
          1.14602,
          1.14634,
          1.14364,
          1.14547,
          1.14615,
          1.14415,
          1.14308,
          1.14236,
          1.14397,
          1.14186,
          1.14416,
          1.14358,
          1.1417,
          1.14058,
          1.1409,
          1.14206,
          1.14165,
          1.1423,
          1.14222,
          1.14266,
          1.14354,
          1.14374,
          1.1425,
          1.14196,
          1.14261,
          1.14434,
          1.14082,
          1.14646,
          1.14296,
          1.14026,
          1.13867,
          1.13862,
          1.13906,
          1.13966,
          1.13403,
          1.13536,
          1.13516,
          1.13122,
          1.1315,
          1.13104,
          1.13064,
          1.13106,
          1.13174,
          1.13462,
          1.13558,
          1.13588,
          1.1358,
          1.13521,
          1.13539,
          1.13774,
          1.1363,
          1.13744,
          1.13736,
          1.13818,
          1.13566,
          1.13614,
          1.13594
         ],
         "type": "candlestick",
         "x": [
          "s22-01-26 02:00",
          "s22-01-26 06:00",
          "s22-01-26 10:00",
          "s22-01-26 14:00",
          "s22-01-26 18:00",
          "s22-01-26 22:00",
          "s22-01-27 02:00",
          "s22-01-27 06:00",
          "s22-01-27 10:00",
          "s22-01-27 14:00",
          "s22-01-27 18:00",
          "s22-01-27 22:00",
          "s22-01-28 02:00",
          "s22-01-28 06:00",
          "s22-01-28 10:00",
          "s22-01-28 14:00",
          "s22-01-28 18:00",
          "s22-01-30 22:00",
          "s22-01-31 02:00",
          "s22-01-31 06:00",
          "s22-01-31 10:00",
          "s22-01-31 14:00",
          "s22-01-31 18:00",
          "s22-01-31 22:00",
          "s22-02-01 02:00",
          "s22-02-01 06:00",
          "s22-02-01 10:00",
          "s22-02-01 14:00",
          "s22-02-01 18:00",
          "s22-02-01 22:00",
          "s22-02-02 02:00",
          "s22-02-02 06:00",
          "s22-02-02 10:00",
          "s22-02-02 14:00",
          "s22-02-02 18:00",
          "s22-02-02 22:00",
          "s22-02-03 02:00",
          "s22-02-03 06:00",
          "s22-02-03 10:00",
          "s22-02-03 14:00",
          "s22-02-03 18:00",
          "s22-02-03 22:00",
          "s22-02-04 02:00",
          "s22-02-04 06:00",
          "s22-02-04 10:00",
          "s22-02-04 14:00",
          "s22-02-04 18:00",
          "s22-02-06 22:00",
          "s22-02-07 02:00",
          "s22-02-07 06:00",
          "s22-02-07 10:00",
          "s22-02-07 14:00",
          "s22-02-07 18:00",
          "s22-02-07 22:00",
          "s22-02-08 02:00",
          "s22-02-08 06:00",
          "s22-02-08 10:00",
          "s22-02-08 14:00",
          "s22-02-08 18:00",
          "s22-02-08 22:00",
          "s22-02-09 02:00",
          "s22-02-09 06:00",
          "s22-02-09 10:00",
          "s22-02-09 14:00",
          "s22-02-09 18:00",
          "s22-02-09 22:00",
          "s22-02-10 02:00",
          "s22-02-10 06:00",
          "s22-02-10 10:00",
          "s22-02-10 14:00",
          "s22-02-10 18:00",
          "s22-02-10 22:00",
          "s22-02-11 02:00",
          "s22-02-11 06:00",
          "s22-02-11 10:00",
          "s22-02-11 14:00",
          "s22-02-11 18:00",
          "s22-02-13 22:00",
          "s22-02-14 02:00",
          "s22-02-14 06:00",
          "s22-02-14 10:00",
          "s22-02-14 14:00",
          "s22-02-14 18:00",
          "s22-02-14 22:00",
          "s22-02-15 02:00",
          "s22-02-15 06:00",
          "s22-02-15 10:00",
          "s22-02-15 14:00",
          "s22-02-15 18:00",
          "s22-02-15 22:00",
          "s22-02-16 02:00",
          "s22-02-16 06:00",
          "s22-02-16 10:00",
          "s22-02-16 14:00",
          "s22-02-16 18:00",
          "s22-02-16 22:00",
          "s22-02-17 02:00",
          "s22-02-17 06:00",
          "s22-02-17 10:00",
          "s22-02-17 14:00"
         ]
        }
       ],
       "layout": {
        "font": {
         "color": "#e1e1e1",
         "size": 8
        },
        "height": 400,
        "margin": {
         "b": 10,
         "l": 10,
         "r": 10,
         "t": 10
        },
        "paper_bgcolor": "#2c303c",
        "plot_bgcolor": "#2c303c",
        "template": {
         "data": {
          "bar": [
           {
            "error_x": {
             "color": "#2a3f5f"
            },
            "error_y": {
             "color": "#2a3f5f"
            },
            "marker": {
             "line": {
              "color": "#E5ECF6",
              "width": 0.5
             },
             "pattern": {
              "fillmode": "overlay",
              "size": 10,
              "solidity": 0.2
             }
            },
            "type": "bar"
           }
          ],
          "barpolar": [
           {
            "marker": {
             "line": {
              "color": "#E5ECF6",
              "width": 0.5
             },
             "pattern": {
              "fillmode": "overlay",
              "size": 10,
              "solidity": 0.2
             }
            },
            "type": "barpolar"
           }
          ],
          "carpet": [
           {
            "aaxis": {
             "endlinecolor": "#2a3f5f",
             "gridcolor": "white",
             "linecolor": "white",
             "minorgridcolor": "white",
             "startlinecolor": "#2a3f5f"
            },
            "baxis": {
             "endlinecolor": "#2a3f5f",
             "gridcolor": "white",
             "linecolor": "white",
             "minorgridcolor": "white",
             "startlinecolor": "#2a3f5f"
            },
            "type": "carpet"
           }
          ],
          "choropleth": [
           {
            "colorbar": {
             "outlinewidth": 0,
             "ticks": ""
            },
            "type": "choropleth"
           }
          ],
          "contour": [
           {
            "colorbar": {
             "outlinewidth": 0,
             "ticks": ""
            },
            "colorscale": [
             [
              0,
              "#0d0887"
             ],
             [
              0.1111111111111111,
              "#46039f"
             ],
             [
              0.2222222222222222,
              "#7201a8"
             ],
             [
              0.3333333333333333,
              "#9c179e"
             ],
             [
              0.4444444444444444,
              "#bd3786"
             ],
             [
              0.5555555555555556,
              "#d8576b"
             ],
             [
              0.6666666666666666,
              "#ed7953"
             ],
             [
              0.7777777777777778,
              "#fb9f3a"
             ],
             [
              0.8888888888888888,
              "#fdca26"
             ],
             [
              1,
              "#f0f921"
             ]
            ],
            "type": "contour"
           }
          ],
          "contourcarpet": [
           {
            "colorbar": {
             "outlinewidth": 0,
             "ticks": ""
            },
            "type": "contourcarpet"
           }
          ],
          "heatmap": [
           {
            "colorbar": {
             "outlinewidth": 0,
             "ticks": ""
            },
            "colorscale": [
             [
              0,
              "#0d0887"
             ],
             [
              0.1111111111111111,
              "#46039f"
             ],
             [
              0.2222222222222222,
              "#7201a8"
             ],
             [
              0.3333333333333333,
              "#9c179e"
             ],
             [
              0.4444444444444444,
              "#bd3786"
             ],
             [
              0.5555555555555556,
              "#d8576b"
             ],
             [
              0.6666666666666666,
              "#ed7953"
             ],
             [
              0.7777777777777778,
              "#fb9f3a"
             ],
             [
              0.8888888888888888,
              "#fdca26"
             ],
             [
              1,
              "#f0f921"
             ]
            ],
            "type": "heatmap"
           }
          ],
          "heatmapgl": [
           {
            "colorbar": {
             "outlinewidth": 0,
             "ticks": ""
            },
            "colorscale": [
             [
              0,
              "#0d0887"
             ],
             [
              0.1111111111111111,
              "#46039f"
             ],
             [
              0.2222222222222222,
              "#7201a8"
             ],
             [
              0.3333333333333333,
              "#9c179e"
             ],
             [
              0.4444444444444444,
              "#bd3786"
             ],
             [
              0.5555555555555556,
              "#d8576b"
             ],
             [
              0.6666666666666666,
              "#ed7953"
             ],
             [
              0.7777777777777778,
              "#fb9f3a"
             ],
             [
              0.8888888888888888,
              "#fdca26"
             ],
             [
              1,
              "#f0f921"
             ]
            ],
            "type": "heatmapgl"
           }
          ],
          "histogram": [
           {
            "marker": {
             "pattern": {
              "fillmode": "overlay",
              "size": 10,
              "solidity": 0.2
             }
            },
            "type": "histogram"
           }
          ],
          "histogram2d": [
           {
            "colorbar": {
             "outlinewidth": 0,
             "ticks": ""
            },
            "colorscale": [
             [
              0,
              "#0d0887"
             ],
             [
              0.1111111111111111,
              "#46039f"
             ],
             [
              0.2222222222222222,
              "#7201a8"
             ],
             [
              0.3333333333333333,
              "#9c179e"
             ],
             [
              0.4444444444444444,
              "#bd3786"
             ],
             [
              0.5555555555555556,
              "#d8576b"
             ],
             [
              0.6666666666666666,
              "#ed7953"
             ],
             [
              0.7777777777777778,
              "#fb9f3a"
             ],
             [
              0.8888888888888888,
              "#fdca26"
             ],
             [
              1,
              "#f0f921"
             ]
            ],
            "type": "histogram2d"
           }
          ],
          "histogram2dcontour": [
           {
            "colorbar": {
             "outlinewidth": 0,
             "ticks": ""
            },
            "colorscale": [
             [
              0,
              "#0d0887"
             ],
             [
              0.1111111111111111,
              "#46039f"
             ],
             [
              0.2222222222222222,
              "#7201a8"
             ],
             [
              0.3333333333333333,
              "#9c179e"
             ],
             [
              0.4444444444444444,
              "#bd3786"
             ],
             [
              0.5555555555555556,
              "#d8576b"
             ],
             [
              0.6666666666666666,
              "#ed7953"
             ],
             [
              0.7777777777777778,
              "#fb9f3a"
             ],
             [
              0.8888888888888888,
              "#fdca26"
             ],
             [
              1,
              "#f0f921"
             ]
            ],
            "type": "histogram2dcontour"
           }
          ],
          "mesh3d": [
           {
            "colorbar": {
             "outlinewidth": 0,
             "ticks": ""
            },
            "type": "mesh3d"
           }
          ],
          "parcoords": [
           {
            "line": {
             "colorbar": {
              "outlinewidth": 0,
              "ticks": ""
             }
            },
            "type": "parcoords"
           }
          ],
          "pie": [
           {
            "automargin": true,
            "type": "pie"
           }
          ],
          "scatter": [
           {
            "fillpattern": {
             "fillmode": "overlay",
             "size": 10,
             "solidity": 0.2
            },
            "type": "scatter"
           }
          ],
          "scatter3d": [
           {
            "line": {
             "colorbar": {
              "outlinewidth": 0,
              "ticks": ""
             }
            },
            "marker": {
             "colorbar": {
              "outlinewidth": 0,
              "ticks": ""
             }
            },
            "type": "scatter3d"
           }
          ],
          "scattercarpet": [
           {
            "marker": {
             "colorbar": {
              "outlinewidth": 0,
              "ticks": ""
             }
            },
            "type": "scattercarpet"
           }
          ],
          "scattergeo": [
           {
            "marker": {
             "colorbar": {
              "outlinewidth": 0,
              "ticks": ""
             }
            },
            "type": "scattergeo"
           }
          ],
          "scattergl": [
           {
            "marker": {
             "colorbar": {
              "outlinewidth": 0,
              "ticks": ""
             }
            },
            "type": "scattergl"
           }
          ],
          "scattermapbox": [
           {
            "marker": {
             "colorbar": {
              "outlinewidth": 0,
              "ticks": ""
             }
            },
            "type": "scattermapbox"
           }
          ],
          "scatterpolar": [
           {
            "marker": {
             "colorbar": {
              "outlinewidth": 0,
              "ticks": ""
             }
            },
            "type": "scatterpolar"
           }
          ],
          "scatterpolargl": [
           {
            "marker": {
             "colorbar": {
              "outlinewidth": 0,
              "ticks": ""
             }
            },
            "type": "scatterpolargl"
           }
          ],
          "scatterternary": [
           {
            "marker": {
             "colorbar": {
              "outlinewidth": 0,
              "ticks": ""
             }
            },
            "type": "scatterternary"
           }
          ],
          "surface": [
           {
            "colorbar": {
             "outlinewidth": 0,
             "ticks": ""
            },
            "colorscale": [
             [
              0,
              "#0d0887"
             ],
             [
              0.1111111111111111,
              "#46039f"
             ],
             [
              0.2222222222222222,
              "#7201a8"
             ],
             [
              0.3333333333333333,
              "#9c179e"
             ],
             [
              0.4444444444444444,
              "#bd3786"
             ],
             [
              0.5555555555555556,
              "#d8576b"
             ],
             [
              0.6666666666666666,
              "#ed7953"
             ],
             [
              0.7777777777777778,
              "#fb9f3a"
             ],
             [
              0.8888888888888888,
              "#fdca26"
             ],
             [
              1,
              "#f0f921"
             ]
            ],
            "type": "surface"
           }
          ],
          "table": [
           {
            "cells": {
             "fill": {
              "color": "#EBF0F8"
             },
             "line": {
              "color": "white"
             }
            },
            "header": {
             "fill": {
              "color": "#C8D4E3"
             },
             "line": {
              "color": "white"
             }
            },
            "type": "table"
           }
          ]
         },
         "layout": {
          "annotationdefaults": {
           "arrowcolor": "#2a3f5f",
           "arrowhead": 0,
           "arrowwidth": 1
          },
          "autotypenumbers": "strict",
          "coloraxis": {
           "colorbar": {
            "outlinewidth": 0,
            "ticks": ""
           }
          },
          "colorscale": {
           "diverging": [
            [
             0,
             "#8e0152"
            ],
            [
             0.1,
             "#c51b7d"
            ],
            [
             0.2,
             "#de77ae"
            ],
            [
             0.3,
             "#f1b6da"
            ],
            [
             0.4,
             "#fde0ef"
            ],
            [
             0.5,
             "#f7f7f7"
            ],
            [
             0.6,
             "#e6f5d0"
            ],
            [
             0.7,
             "#b8e186"
            ],
            [
             0.8,
             "#7fbc41"
            ],
            [
             0.9,
             "#4d9221"
            ],
            [
             1,
             "#276419"
            ]
           ],
           "sequential": [
            [
             0,
             "#0d0887"
            ],
            [
             0.1111111111111111,
             "#46039f"
            ],
            [
             0.2222222222222222,
             "#7201a8"
            ],
            [
             0.3333333333333333,
             "#9c179e"
            ],
            [
             0.4444444444444444,
             "#bd3786"
            ],
            [
             0.5555555555555556,
             "#d8576b"
            ],
            [
             0.6666666666666666,
             "#ed7953"
            ],
            [
             0.7777777777777778,
             "#fb9f3a"
            ],
            [
             0.8888888888888888,
             "#fdca26"
            ],
            [
             1,
             "#f0f921"
            ]
           ],
           "sequentialminus": [
            [
             0,
             "#0d0887"
            ],
            [
             0.1111111111111111,
             "#46039f"
            ],
            [
             0.2222222222222222,
             "#7201a8"
            ],
            [
             0.3333333333333333,
             "#9c179e"
            ],
            [
             0.4444444444444444,
             "#bd3786"
            ],
            [
             0.5555555555555556,
             "#d8576b"
            ],
            [
             0.6666666666666666,
             "#ed7953"
            ],
            [
             0.7777777777777778,
             "#fb9f3a"
            ],
            [
             0.8888888888888888,
             "#fdca26"
            ],
            [
             1,
             "#f0f921"
            ]
           ]
          },
          "colorway": [
           "#636efa",
           "#EF553B",
           "#00cc96",
           "#ab63fa",
           "#FFA15A",
           "#19d3f3",
           "#FF6692",
           "#B6E880",
           "#FF97FF",
           "#FECB52"
          ],
          "font": {
           "color": "#2a3f5f"
          },
          "geo": {
           "bgcolor": "white",
           "lakecolor": "white",
           "landcolor": "#E5ECF6",
           "showlakes": true,
           "showland": true,
           "subunitcolor": "white"
          },
          "hoverlabel": {
           "align": "left"
          },
          "hovermode": "closest",
          "mapbox": {
           "style": "light"
          },
          "paper_bgcolor": "white",
          "plot_bgcolor": "#E5ECF6",
          "polar": {
           "angularaxis": {
            "gridcolor": "white",
            "linecolor": "white",
            "ticks": ""
           },
           "bgcolor": "#E5ECF6",
           "radialaxis": {
            "gridcolor": "white",
            "linecolor": "white",
            "ticks": ""
           }
          },
          "scene": {
           "xaxis": {
            "backgroundcolor": "#E5ECF6",
            "gridcolor": "white",
            "gridwidth": 2,
            "linecolor": "white",
            "showbackground": true,
            "ticks": "",
            "zerolinecolor": "white"
           },
           "yaxis": {
            "backgroundcolor": "#E5ECF6",
            "gridcolor": "white",
            "gridwidth": 2,
            "linecolor": "white",
            "showbackground": true,
            "ticks": "",
            "zerolinecolor": "white"
           },
           "zaxis": {
            "backgroundcolor": "#E5ECF6",
            "gridcolor": "white",
            "gridwidth": 2,
            "linecolor": "white",
            "showbackground": true,
            "ticks": "",
            "zerolinecolor": "white"
           }
          },
          "shapedefaults": {
           "line": {
            "color": "#2a3f5f"
           }
          },
          "ternary": {
           "aaxis": {
            "gridcolor": "white",
            "linecolor": "white",
            "ticks": ""
           },
           "baxis": {
            "gridcolor": "white",
            "linecolor": "white",
            "ticks": ""
           },
           "bgcolor": "#E5ECF6",
           "caxis": {
            "gridcolor": "white",
            "linecolor": "white",
            "ticks": ""
           }
          },
          "title": {
           "x": 0.05
          },
          "xaxis": {
           "automargin": true,
           "gridcolor": "white",
           "linecolor": "white",
           "ticks": "",
           "title": {
            "standoff": 15
           },
           "zerolinecolor": "white",
           "zerolinewidth": 2
          },
          "yaxis": {
           "automargin": true,
           "gridcolor": "white",
           "linecolor": "white",
           "ticks": "",
           "title": {
            "standoff": 15
           },
           "zerolinecolor": "white",
           "zerolinewidth": 2
          }
         }
        },
        "width": 900,
        "xaxis": {
         "autorange": true,
         "gridcolor": "#1f292f",
         "nticks": 5,
         "range": [
          -0.5,
          99.5
         ],
         "rangeslider": {
          "visible": false,
          "yaxis": {}
         },
         "type": "category"
        },
        "yaxis": {
         "autorange": true,
         "gridcolor": "#1f292f",
         "range": [
          1.1100644444444443,
          1.1515755555555556
         ]
        }
       }
      },
      "image/png": "[encoded data removed]",
      "text/html": [
       "<div>                            <div id=\"08a22d58-3dca-469e-837e-320d618984a4\" class=\"plotly-graph-div\" style=\"height:400px; width:900px;\"></div>            <script type=\"text/javascript\">                require([\"plotly\"], function(Plotly) {                    window.PLOTLYENV=window.PLOTLYENV || {};                                    if (document.getElementById(\"08a22d58-3dca-469e-837e-320d618984a4\")) {                    Plotly.newPlot(                        \"08a22d58-3dca-469e-837e-320d618984a4\",                        [{\"close\":[1.13045,1.12869,1.12824,1.1288,1.1241,1.12329,1.122,1.11964,1.11494,1.11392,1.11441,1.11474,1.11543,1.11327,1.11686,1.11512,1.11492,1.11579,1.1165,1.11749,1.11932,1.12192,1.1233,1.12264,1.12402,1.12612,1.12658,1.1245,1.12736,1.12766,1.12732,1.12933,1.13114,1.13113,1.13055,1.13002,1.13006,1.12844,1.13641,1.14439,1.14392,1.1452,1.14601,1.14632,1.14362,1.14544,1.14516,1.14413,1.14306,1.14235,1.14398,1.14187,1.14416,1.14358,1.14172,1.1406,1.1409,1.14208,1.1417,1.14232,1.14223,1.14267,1.14356,1.14376,1.14233,1.14194,1.14259,1.14436,1.14084,1.14648,1.1428,1.14025,1.13866,1.13863,1.13908,1.13967,1.13472,1.13536,1.13516,1.13122,1.13152,1.13106,1.13064,1.13106,1.13175,1.13462,1.1356,1.13588,1.13586,1.13521,1.1354,1.13776,1.13631,1.13742,1.13736,1.13818,1.13564,1.13614,1.13595,1.13594],\"decreasing\":{\"fillcolor\":\"#CC2E3C\",\"line\":{\"color\":\"#FF3A4C\"}},\"high\":[1.13108,1.13053,1.12882,1.12965,1.13015,1.12434,1.12335,1.12216,1.1201,1.11622,1.11494,1.11484,1.11559,1.11549,1.11689,1.11738,1.11562,1.1158,1.1166,1.11824,1.11938,1.12198,1.12478,1.12357,1.12453,1.12696,1.12789,1.12744,1.12738,1.12769,1.12782,1.12945,1.13304,1.13213,1.13144,1.13065,1.13083,1.13026,1.13642,1.14514,1.14498,1.14542,1.1472,1.14688,1.14839,1.14626,1.14642,1.14639,1.14426,1.14494,1.14588,1.14514,1.14439,1.14488,1.14359,1.14236,1.14336,1.1424,1.1424,1.14235,1.14326,1.14279,1.1446,1.14478,1.14414,1.1428,1.14315,1.14464,1.14456,1.1495,1.14752,1.14315,1.1407,1.1398,1.14183,1.14083,1.13994,1.13692,1.13538,1.13522,1.13426,1.13212,1.13144,1.13146,1.13226,1.13504,1.136,1.13684,1.13644,1.13622,1.13556,1.13954,1.13884,1.13828,1.1396,1.1385,1.1385,1.13863,1.13795,1.13796],\"increasing\":{\"fillcolor\":\"#24A068\",\"line\":{\"color\":\"#2EC886\"}},\"line\":{\"width\":1},\"low\":[1.13007,1.12833,1.12716,1.1274,1.12353,1.12305,1.12155,1.11929,1.1135,1.11316,1.11356,1.1138,1.11465,1.11214,1.11256,1.11382,1.11412,1.11382,1.11546,1.11606,1.11462,1.11834,1.12184,1.1221,1.12256,1.12344,1.12534,1.12344,1.12431,1.12684,1.12707,1.12668,1.129,1.12926,1.13022,1.12932,1.12947,1.1284,1.12672,1.13624,1.14261,1.1432,1.14489,1.144,1.14218,1.14116,1.14475,1.14396,1.14248,1.14153,1.14163,1.14174,1.14173,1.14333,1.14154,1.13962,1.14002,1.14032,1.14016,1.14122,1.14218,1.14026,1.14234,1.14256,1.14201,1.14132,1.1418,1.14196,1.1382,1.13749,1.1407,1.13856,1.13748,1.137,1.13839,1.138,1.13298,1.13392,1.13406,1.13038,1.13008,1.12916,1.12801,1.13011,1.13091,1.13095,1.13366,1.13202,1.13546,1.13487,1.1345,1.13534,1.13548,1.13532,1.13712,1.13673,1.13232,1.13428,1.13517,1.13507],\"opacity\":1,\"open\":[1.13056,1.13046,1.12868,1.12826,1.12881,1.12418,1.12328,1.12199,1.11962,1.11492,1.1139,1.11473,1.11473,1.11542,1.11326,1.11688,1.11514,1.11453,1.11577,1.1165,1.11748,1.11931,1.12192,1.12357,1.12266,1.12404,1.12614,1.12658,1.1245,1.12712,1.12764,1.1273,1.12934,1.13115,1.13112,1.13059,1.13001,1.13008,1.12842,1.13644,1.1444,1.14382,1.14522,1.14602,1.14634,1.14364,1.14547,1.14615,1.14415,1.14308,1.14236,1.14397,1.14186,1.14416,1.14358,1.1417,1.14058,1.1409,1.14206,1.14165,1.1423,1.14222,1.14266,1.14354,1.14374,1.1425,1.14196,1.14261,1.14434,1.14082,1.14646,1.14296,1.14026,1.13867,1.13862,1.13906,1.13966,1.13403,1.13536,1.13516,1.13122,1.1315,1.13104,1.13064,1.13106,1.13174,1.13462,1.13558,1.13588,1.1358,1.13521,1.13539,1.13774,1.1363,1.13744,1.13736,1.13818,1.13566,1.13614,1.13594],\"x\":[\"s22-01-26 02:00\",\"s22-01-26 06:00\",\"s22-01-26 10:00\",\"s22-01-26 14:00\",\"s22-01-26 18:00\",\"s22-01-26 22:00\",\"s22-01-27 02:00\",\"s22-01-27 06:00\",\"s22-01-27 10:00\",\"s22-01-27 14:00\",\"s22-01-27 18:00\",\"s22-01-27 22:00\",\"s22-01-28 02:00\",\"s22-01-28 06:00\",\"s22-01-28 10:00\",\"s22-01-28 14:00\",\"s22-01-28 18:00\",\"s22-01-30 22:00\",\"s22-01-31 02:00\",\"s22-01-31 06:00\",\"s22-01-31 10:00\",\"s22-01-31 14:00\",\"s22-01-31 18:00\",\"s22-01-31 22:00\",\"s22-02-01 02:00\",\"s22-02-01 06:00\",\"s22-02-01 10:00\",\"s22-02-01 14:00\",\"s22-02-01 18:00\",\"s22-02-01 22:00\",\"s22-02-02 02:00\",\"s22-02-02 06:00\",\"s22-02-02 10:00\",\"s22-02-02 14:00\",\"s22-02-02 18:00\",\"s22-02-02 22:00\",\"s22-02-03 02:00\",\"s22-02-03 06:00\",\"s22-02-03 10:00\",\"s22-02-03 14:00\",\"s22-02-03 18:00\",\"s22-02-03 22:00\",\"s22-02-04 02:00\",\"s22-02-04 06:00\",\"s22-02-04 10:00\",\"s22-02-04 14:00\",\"s22-02-04 18:00\",\"s22-02-06 22:00\",\"s22-02-07 02:00\",\"s22-02-07 06:00\",\"s22-02-07 10:00\",\"s22-02-07 14:00\",\"s22-02-07 18:00\",\"s22-02-07 22:00\",\"s22-02-08 02:00\",\"s22-02-08 06:00\",\"s22-02-08 10:00\",\"s22-02-08 14:00\",\"s22-02-08 18:00\",\"s22-02-08 22:00\",\"s22-02-09 02:00\",\"s22-02-09 06:00\",\"s22-02-09 10:00\",\"s22-02-09 14:00\",\"s22-02-09 18:00\",\"s22-02-09 22:00\",\"s22-02-10 02:00\",\"s22-02-10 06:00\",\"s22-02-10 10:00\",\"s22-02-10 14:00\",\"s22-02-10 18:00\",\"s22-02-10 22:00\",\"s22-02-11 02:00\",\"s22-02-11 06:00\",\"s22-02-11 10:00\",\"s22-02-11 14:00\",\"s22-02-11 18:00\",\"s22-02-13 22:00\",\"s22-02-14 02:00\",\"s22-02-14 06:00\",\"s22-02-14 10:00\",\"s22-02-14 14:00\",\"s22-02-14 18:00\",\"s22-02-14 22:00\",\"s22-02-15 02:00\",\"s22-02-15 06:00\",\"s22-02-15 10:00\",\"s22-02-15 14:00\",\"s22-02-15 18:00\",\"s22-02-15 22:00\",\"s22-02-16 02:00\",\"s22-02-16 06:00\",\"s22-02-16 10:00\",\"s22-02-16 14:00\",\"s22-02-16 18:00\",\"s22-02-16 22:00\",\"s22-02-17 02:00\",\"s22-02-17 06:00\",\"s22-02-17 10:00\",\"s22-02-17 14:00\"],\"type\":\"candlestick\"}],                        {\"template\":{\"data\":{\"histogram2dcontour\":[{\"type\":\"histogram2dcontour\",\"colorbar\":{\"outlinewidth\":0,\"ticks\":\"\"},\"colorscale\":[[0.0,\"#0d0887\"],[0.1111111111111111,\"#46039f\"],[0.2222222222222222,\"#7201a8\"],[0.3333333333333333,\"#9c179e\"],[0.4444444444444444,\"#bd3786\"],[0.5555555555555556,\"#d8576b\"],[0.6666666666666666,\"#ed7953\"],[0.7777777777777778,\"#fb9f3a\"],[0.8888888888888888,\"#fdca26\"],[1.0,\"#f0f921\"]]}],\"choropleth\":[{\"type\":\"choropleth\",\"colorbar\":{\"outlinewidth\":0,\"ticks\":\"\"}}],\"histogram2d\":[{\"type\":\"histogram2d\",\"colorbar\":{\"outlinewidth\":0,\"ticks\":\"\"},\"colorscale\":[[0.0,\"#0d0887\"],[0.1111111111111111,\"#46039f\"],[0.2222222222222222,\"#7201a8\"],[0.3333333333333333,\"#9c179e\"],[0.4444444444444444,\"#bd3786\"],[0.5555555555555556,\"#d8576b\"],[0.6666666666666666,\"#ed7953\"],[0.7777777777777778,\"#fb9f3a\"],[0.8888888888888888,\"#fdca26\"],[1.0,\"#f0f921\"]]}],\"heatmap\":[{\"type\":\"heatmap\",\"colorbar\":{\"outlinewidth\":0,\"ticks\":\"\"},\"colorscale\":[[0.0,\"#0d0887\"],[0.1111111111111111,\"#46039f\"],[0.2222222222222222,\"#7201a8\"],[0.3333333333333333,\"#9c179e\"],[0.4444444444444444,\"#bd3786\"],[0.5555555555555556,\"#d8576b\"],[0.6666666666666666,\"#ed7953\"],[0.7777777777777778,\"#fb9f3a\"],[0.8888888888888888,\"#fdca26\"],[1.0,\"#f0f921\"]]}],\"heatmapgl\":[{\"type\":\"heatmapgl\",\"colorbar\":{\"outlinewidth\":0,\"ticks\":\"\"},\"colorscale\":[[0.0,\"#0d0887\"],[0.1111111111111111,\"#46039f\"],[0.2222222222222222,\"#7201a8\"],[0.3333333333333333,\"#9c179e\"],[0.4444444444444444,\"#bd3786\"],[0.5555555555555556,\"#d8576b\"],[0.6666666666666666,\"#ed7953\"],[0.7777777777777778,\"#fb9f3a\"],[0.8888888888888888,\"#fdca26\"],[1.0,\"#f0f921\"]]}],\"contourcarpet\":[{\"type\":\"contourcarpet\",\"colorbar\":{\"outlinewidth\":0,\"ticks\":\"\"}}],\"contour\":[{\"type\":\"contour\",\"colorbar\":{\"outlinewidth\":0,\"ticks\":\"\"},\"colorscale\":[[0.0,\"#0d0887\"],[0.1111111111111111,\"#46039f\"],[0.2222222222222222,\"#7201a8\"],[0.3333333333333333,\"#9c179e\"],[0.4444444444444444,\"#bd3786\"],[0.5555555555555556,\"#d8576b\"],[0.6666666666666666,\"#ed7953\"],[0.7777777777777778,\"#fb9f3a\"],[0.8888888888888888,\"#fdca26\"],[1.0,\"#f0f921\"]]}],\"surface\":[{\"type\":\"surface\",\"colorbar\":{\"outlinewidth\":0,\"ticks\":\"\"},\"colorscale\":[[0.0,\"#0d0887\"],[0.1111111111111111,\"#46039f\"],[0.2222222222222222,\"#7201a8\"],[0.3333333333333333,\"#9c179e\"],[0.4444444444444444,\"#bd3786\"],[0.5555555555555556,\"#d8576b\"],[0.6666666666666666,\"#ed7953\"],[0.7777777777777778,\"#fb9f3a\"],[0.8888888888888888,\"#fdca26\"],[1.0,\"#f0f921\"]]}],\"mesh3d\":[{\"type\":\"mesh3d\",\"colorbar\":{\"outlinewidth\":0,\"ticks\":\"\"}}],\"scatter\":[{\"fillpattern\":{\"fillmode\":\"overlay\",\"size\":10,\"solidity\":0.2},\"type\":\"scatter\"}],\"parcoords\":[{\"type\":\"parcoords\",\"line\":{\"colorbar\":{\"outlinewidth\":0,\"ticks\":\"\"}}}],\"scatterpolargl\":[{\"type\":\"scatterpolargl\",\"marker\":{\"colorbar\":{\"outlinewidth\":0,\"ticks\":\"\"}}}],\"bar\":[{\"error_x\":{\"color\":\"#2a3f5f\"},\"error_y\":{\"color\":\"#2a3f5f\"},\"marker\":{\"line\":{\"color\":\"#E5ECF6\",\"width\":0.5},\"pattern\":{\"fillmode\":\"overlay\",\"size\":10,\"solidity\":0.2}},\"type\":\"bar\"}],\"scattergeo\":[{\"type\":\"scattergeo\",\"marker\":{\"colorbar\":{\"outlinewidth\":0,\"ticks\":\"\"}}}],\"scatterpolar\":[{\"type\":\"scatterpolar\",\"marker\":{\"colorbar\":{\"outlinewidth\":0,\"ticks\":\"\"}}}],\"histogram\":[{\"marker\":{\"pattern\":{\"fillmode\":\"overlay\",\"size\":10,\"solidity\":0.2}},\"type\":\"histogram\"}],\"scattergl\":[{\"type\":\"scattergl\",\"marker\":{\"colorbar\":{\"outlinewidth\":0,\"ticks\":\"\"}}}],\"scatter3d\":[{\"type\":\"scatter3d\",\"line\":{\"colorbar\":{\"outlinewidth\":0,\"ticks\":\"\"}},\"marker\":{\"colorbar\":{\"outlinewidth\":0,\"ticks\":\"\"}}}],\"scattermapbox\":[{\"type\":\"scattermapbox\",\"marker\":{\"colorbar\":{\"outlinewidth\":0,\"ticks\":\"\"}}}],\"scatterternary\":[{\"type\":\"scatterternary\",\"marker\":{\"colorbar\":{\"outlinewidth\":0,\"ticks\":\"\"}}}],\"scattercarpet\":[{\"type\":\"scattercarpet\",\"marker\":{\"colorbar\":{\"outlinewidth\":0,\"ticks\":\"\"}}}],\"carpet\":[{\"aaxis\":{\"endlinecolor\":\"#2a3f5f\",\"gridcolor\":\"white\",\"linecolor\":\"white\",\"minorgridcolor\":\"white\",\"startlinecolor\":\"#2a3f5f\"},\"baxis\":{\"endlinecolor\":\"#2a3f5f\",\"gridcolor\":\"white\",\"linecolor\":\"white\",\"minorgridcolor\":\"white\",\"startlinecolor\":\"#2a3f5f\"},\"type\":\"carpet\"}],\"table\":[{\"cells\":{\"fill\":{\"color\":\"#EBF0F8\"},\"line\":{\"color\":\"white\"}},\"header\":{\"fill\":{\"color\":\"#C8D4E3\"},\"line\":{\"color\":\"white\"}},\"type\":\"table\"}],\"barpolar\":[{\"marker\":{\"line\":{\"color\":\"#E5ECF6\",\"width\":0.5},\"pattern\":{\"fillmode\":\"overlay\",\"size\":10,\"solidity\":0.2}},\"type\":\"barpolar\"}],\"pie\":[{\"automargin\":true,\"type\":\"pie\"}]},\"layout\":{\"autotypenumbers\":\"strict\",\"colorway\":[\"#636efa\",\"#EF553B\",\"#00cc96\",\"#ab63fa\",\"#FFA15A\",\"#19d3f3\",\"#FF6692\",\"#B6E880\",\"#FF97FF\",\"#FECB52\"],\"font\":{\"color\":\"#2a3f5f\"},\"hovermode\":\"closest\",\"hoverlabel\":{\"align\":\"left\"},\"paper_bgcolor\":\"white\",\"plot_bgcolor\":\"#E5ECF6\",\"polar\":{\"bgcolor\":\"#E5ECF6\",\"angularaxis\":{\"gridcolor\":\"white\",\"linecolor\":\"white\",\"ticks\":\"\"},\"radialaxis\":{\"gridcolor\":\"white\",\"linecolor\":\"white\",\"ticks\":\"\"}},\"ternary\":{\"bgcolor\":\"#E5ECF6\",\"aaxis\":{\"gridcolor\":\"white\",\"linecolor\":\"white\",\"ticks\":\"\"},\"baxis\":{\"gridcolor\":\"white\",\"linecolor\":\"white\",\"ticks\":\"\"},\"caxis\":{\"gridcolor\":\"white\",\"linecolor\":\"white\",\"ticks\":\"\"}},\"coloraxis\":{\"colorbar\":{\"outlinewidth\":0,\"ticks\":\"\"}},\"colorscale\":{\"sequential\":[[0.0,\"#0d0887\"],[0.1111111111111111,\"#46039f\"],[0.2222222222222222,\"#7201a8\"],[0.3333333333333333,\"#9c179e\"],[0.4444444444444444,\"#bd3786\"],[0.5555555555555556,\"#d8576b\"],[0.6666666666666666,\"#ed7953\"],[0.7777777777777778,\"#fb9f3a\"],[0.8888888888888888,\"#fdca26\"],[1.0,\"#f0f921\"]],\"sequentialminus\":[[0.0,\"#0d0887\"],[0.1111111111111111,\"#46039f\"],[0.2222222222222222,\"#7201a8\"],[0.3333333333333333,\"#9c179e\"],[0.4444444444444444,\"#bd3786\"],[0.5555555555555556,\"#d8576b\"],[0.6666666666666666,\"#ed7953\"],[0.7777777777777778,\"#fb9f3a\"],[0.8888888888888888,\"#fdca26\"],[1.0,\"#f0f921\"]],\"diverging\":[[0,\"#8e0152\"],[0.1,\"#c51b7d\"],[0.2,\"#de77ae\"],[0.3,\"#f1b6da\"],[0.4,\"#fde0ef\"],[0.5,\"#f7f7f7\"],[0.6,\"#e6f5d0\"],[0.7,\"#b8e186\"],[0.8,\"#7fbc41\"],[0.9,\"#4d9221\"],[1,\"#276419\"]]},\"xaxis\":{\"gridcolor\":\"white\",\"linecolor\":\"white\",\"ticks\":\"\",\"title\":{\"standoff\":15},\"zerolinecolor\":\"white\",\"automargin\":true,\"zerolinewidth\":2},\"yaxis\":{\"gridcolor\":\"white\",\"linecolor\":\"white\",\"ticks\":\"\",\"title\":{\"standoff\":15},\"zerolinecolor\":\"white\",\"automargin\":true,\"zerolinewidth\":2},\"scene\":{\"xaxis\":{\"backgroundcolor\":\"#E5ECF6\",\"gridcolor\":\"white\",\"linecolor\":\"white\",\"showbackground\":true,\"ticks\":\"\",\"zerolinecolor\":\"white\",\"gridwidth\":2},\"yaxis\":{\"backgroundcolor\":\"#E5ECF6\",\"gridcolor\":\"white\",\"linecolor\":\"white\",\"showbackground\":true,\"ticks\":\"\",\"zerolinecolor\":\"white\",\"gridwidth\":2},\"zaxis\":{\"backgroundcolor\":\"#E5ECF6\",\"gridcolor\":\"white\",\"linecolor\":\"white\",\"showbackground\":true,\"ticks\":\"\",\"zerolinecolor\":\"white\",\"gridwidth\":2}},\"shapedefaults\":{\"line\":{\"color\":\"#2a3f5f\"}},\"annotationdefaults\":{\"arrowcolor\":\"#2a3f5f\",\"arrowhead\":0,\"arrowwidth\":1},\"geo\":{\"bgcolor\":\"white\",\"landcolor\":\"#E5ECF6\",\"subunitcolor\":\"white\",\"showland\":true,\"showlakes\":true,\"lakecolor\":\"white\"},\"title\":{\"x\":0.05},\"mapbox\":{\"style\":\"light\"}}},\"yaxis\":{\"gridcolor\":\"#1f292f\"},\"xaxis\":{\"rangeslider\":{\"visible\":false},\"gridcolor\":\"#1f292f\",\"nticks\":5},\"margin\":{\"l\":10,\"r\":10,\"b\":10,\"t\":10},\"font\":{\"color\":\"#e1e1e1\",\"size\":8},\"width\":900,\"height\":400,\"paper_bgcolor\":\"#2c303c\",\"plot_bgcolor\":\"#2c303c\"},                        {\"responsive\": true}                    ).then(function(){\n",
       "                            \n",
       "var gd = document.getElementById('08a22d58-3dca-469e-837e-320d618984a4');\n",
       "var x = new MutationObserver(function (mutations, observer) {{\n",
       "        var display = window.getComputedStyle(gd).display;\n",
       "        if (!display || display === 'none') {{\n",
       "            console.log([gd, 'removed!']);\n",
       "            Plotly.purge(gd);\n",
       "            observer.disconnect();\n",
       "        }}\n",
       "}});\n",
       "\n",
       "// Listen for the removal of the full notebook cells\n",
       "var notebookContainer = gd.closest('#notebook-container');\n",
       "if (notebookContainer) {{\n",
       "    x.observe(notebookContainer, {childList: true});\n",
       "}}\n",
       "\n",
       "// Listen for the clearing of the current output cell\n",
       "var outputEl = gd.closest('.output');\n",
       "if (outputEl) {{\n",
       "    x.observe(outputEl, {childList: true});\n",
       "}}\n",
       "\n",
       "                        })                };                });            </script>        </div>"
      ]
     },
     "metadata": {},
     "output_type": "display_data"
    }
   ],
   "source": [
    "cd = CandlePlot(df_plot)\n",
    "cd.show_plot()"
   ]
  },
  {
   "cell_type": "code",
   "execution_count": null,
   "id": "44728b76-71b3-449a-9c62-98503cfaef05",
   "metadata": {},
   "outputs": [],
   "source": []
  },
  {
   "cell_type": "code",
   "execution_count": null,
   "id": "eabcb5b0-4152-4a5f-ad6b-db76a999c6c1",
   "metadata": {},
   "outputs": [],
   "source": []
  }
 ],
 "metadata": {
  "kernelspec": {
   "display_name": "Python 3 (ipykernel)",
   "language": "python",
   "name": "python3"
  },
  "language_info": {
   "codemirror_mode": {
    "name": "ipython",
    "version": 3
   },
   "file_extension": ".py",
   "mimetype": "text/x-python",
   "name": "python",
   "nbconvert_exporter": "python",
   "pygments_lexer": "ipython3",
   "version": "3.12.4"
  }
 },
 "nbformat": 4,
 "nbformat_minor": 5
}
